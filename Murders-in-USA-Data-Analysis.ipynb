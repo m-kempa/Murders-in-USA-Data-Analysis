{
 "cells": [
  {
   "cell_type": "markdown",
   "metadata": {},
   "source": [
    "# Liczba morderst w latach 2014/2015 w poszczególnych miastach USA\n",
    "Zbior danych zawiera średnią liczbę mordestw za rok 2014 i 2015 we wszystkich miastach USA z conajmniej 250 000 mieszkańcami.\n",
    "Źródło to:  FBI Uniform Crime Reports.\n",
    "\n",
    "Zbór danych składa się z nazwy miasta, stanu w którym miasto się znajduje, liczby morderstw w 2014 roku, liczby morderstw w 2015 roku, rożnicy między 2015 i 2014.\n",
    "\n",
    "\n",
    "Zbiór danych zawiera 83 rekordy."
   ]
  },
  {
   "cell_type": "code",
   "execution_count": 4,
   "metadata": {},
   "outputs": [
    {
     "data": {
      "text/html": [
       "<table>\n",
       "<thead><tr><th></th><th scope=col>city</th><th scope=col>state</th><th scope=col>X2014_murders</th><th scope=col>X2015_murders</th><th scope=col>change</th></tr></thead>\n",
       "<tbody>\n",
       "\t<tr><th scope=row>36</th><td>Bakersfield   </td><td>California    </td><td> 17           </td><td> 22           </td><td>  5           </td></tr>\n",
       "\t<tr><th scope=row>16</th><td>New York      </td><td>New York      </td><td>333           </td><td>352           </td><td> 19           </td></tr>\n",
       "\t<tr><th scope=row>50</th><td>Henderson     </td><td>Nevada        </td><td>  3           </td><td>  4           </td><td>  1           </td></tr>\n",
       "\t<tr><th scope=row>26</th><td>Fort Wayne    </td><td>Indiana       </td><td> 12           </td><td> 25           </td><td> 13           </td></tr>\n",
       "\t<tr><th scope=row>83</th><td>Buffalo       </td><td>New York      </td><td> 60           </td><td> 41           </td><td>-19           </td></tr>\n",
       "\t<tr><th scope=row>39</th><td>Oakland       </td><td>California    </td><td> 80           </td><td> 85           </td><td>  5           </td></tr>\n",
       "\t<tr><th scope=row>73</th><td>Lincoln       </td><td>Nebraska      </td><td>  7           </td><td>  1           </td><td> -6           </td></tr>\n",
       "\t<tr><th scope=row>1</th><td>Baltimore     </td><td>Maryland      </td><td>211           </td><td>344           </td><td>133           </td></tr>\n",
       "\t<tr><th scope=row>76</th><td>Mobile        </td><td>Alabama       </td><td> 31           </td><td> 24           </td><td> -7           </td></tr>\n",
       "\t<tr><th scope=row>30</th><td>Newark        </td><td>New Jersey    </td><td> 93           </td><td>104           </td><td> 11           </td></tr>\n",
       "\t<tr><th scope=row>74</th><td>Miami         </td><td>Florida       </td><td> 81           </td><td> 75           </td><td> -6           </td></tr>\n",
       "\t<tr><th scope=row>18</th><td>Minneapolis   </td><td>Minnesota     </td><td> 31           </td><td> 47           </td><td> 16           </td></tr>\n",
       "\t<tr><th scope=row>58</th><td>Chula Vista   </td><td>California    </td><td>  7           </td><td>  6           </td><td> -1           </td></tr>\n",
       "\t<tr><th scope=row>35</th><td>Tampa         </td><td>Florida       </td><td> 28           </td><td> 34           </td><td>  6           </td></tr>\n",
       "\t<tr><th scope=row>78</th><td>Austin        </td><td>Texas         </td><td> 32           </td><td> 23           </td><td> -9           </td></tr>\n",
       "\t<tr><th scope=row>4</th><td>Cleveland     </td><td>Ohio          </td><td> 63           </td><td>120           </td><td> 57           </td></tr>\n",
       "\t<tr><th scope=row>54</th><td>Chandler      </td><td>Arizona       </td><td>  1           </td><td>  1           </td><td>  0           </td></tr>\n",
       "\t<tr><th scope=row>7</th><td>Philadelphia  </td><td>Pennsylvania  </td><td>248           </td><td>280           </td><td> 32           </td></tr>\n",
       "\t<tr><th scope=row>53</th><td>Wichita       </td><td>Kansas        </td><td> 26           </td><td> 27           </td><td>  1           </td></tr>\n",
       "\t<tr><th scope=row>43</th><td>Greensboro    </td><td>North Carolina</td><td> 23           </td><td> 26           </td><td>  3           </td></tr>\n",
       "\t<tr><th scope=row>75</th><td>Santa Ana     </td><td>California    </td><td> 18           </td><td> 12           </td><td> -6           </td></tr>\n",
       "\t<tr><th scope=row>15</th><td>Dallas        </td><td>Texas         </td><td>116           </td><td>136           </td><td> 20           </td></tr>\n",
       "\t<tr><th scope=row>80</th><td>Corpus Christi</td><td>Texas         </td><td> 27           </td><td> 17           </td><td>-10           </td></tr>\n",
       "\t<tr><th scope=row>32</th><td>Portland      </td><td>Oregon        </td><td> 26           </td><td> 34           </td><td>  8           </td></tr>\n",
       "\t<tr><th scope=row>45</th><td>Mesa          </td><td>Arizona       </td><td> 13           </td><td> 16           </td><td>  3           </td></tr>\n",
       "\t<tr><th scope=row>60</th><td>Riverside     </td><td>California    </td><td> 12           </td><td> 10           </td><td> -2           </td></tr>\n",
       "\t<tr><th scope=row>66</th><td>Arlington     </td><td>Texas         </td><td> 13           </td><td>  8           </td><td> -5           </td></tr>\n",
       "\t<tr><th scope=row>70</th><td>Columbus      </td><td>Ohio          </td><td> 83           </td><td> 77           </td><td> -6           </td></tr>\n",
       "\t<tr><th scope=row>34</th><td>Cincinnati    </td><td>Ohio          </td><td> 60           </td><td> 66           </td><td>  6           </td></tr>\n",
       "\t<tr><th scope=row>56</th><td>Stockton      </td><td>California    </td><td> 49           </td><td> 49           </td><td>  0           </td></tr>\n",
       "\t<tr><th scope=row>57</th><td>Toledo        </td><td>Ohio          </td><td> 24           </td><td> 24           </td><td>  0           </td></tr>\n",
       "\t<tr><th scope=row>71</th><td>Honolulu      </td><td>Hawaii        </td><td> 21           </td><td> 15           </td><td> -6           </td></tr>\n",
       "\t<tr><th scope=row>20</th><td>Sacramento    </td><td>California    </td><td> 28           </td><td> 43           </td><td> 15           </td></tr>\n",
       "\t<tr><th scope=row>47</th><td>Virginia Beach</td><td>Virginia      </td><td> 17           </td><td> 19           </td><td>  2           </td></tr>\n",
       "\t<tr><th scope=row>63</th><td>Seattle       </td><td>Washington    </td><td> 26           </td><td> 23           </td><td> -3           </td></tr>\n",
       "\t<tr><th scope=row>33</th><td>San Francisco </td><td>California    </td><td> 45           </td><td> 53           </td><td>  8           </td></tr>\n",
       "\t<tr><th scope=row>11</th><td>Oklahoma City </td><td>Oklahoma      </td><td> 45           </td><td> 73           </td><td> 28           </td></tr>\n",
       "\t<tr><th scope=row>31</th><td>Tulsa         </td><td>Oklahoma      </td><td> 46           </td><td> 55           </td><td>  9           </td></tr>\n",
       "\t<tr><th scope=row>38</th><td>Las Vegas     </td><td>Nevada        </td><td>122           </td><td>127           </td><td>  5           </td></tr>\n",
       "\t<tr><th scope=row>25</th><td>Aurora        </td><td>Colorado      </td><td> 11           </td><td> 24           </td><td> 13           </td></tr>\n",
       "</tbody>\n",
       "</table>\n"
      ],
      "text/latex": [
       "\\begin{tabular}{r|lllll}\n",
       "  & city & state & X2014\\_murders & X2015\\_murders & change\\\\\n",
       "\\hline\n",
       "\t36 & Bakersfield    & California     &  17            &  22            &   5           \\\\\n",
       "\t16 & New York       & New York       & 333            & 352            &  19           \\\\\n",
       "\t50 & Henderson      & Nevada         &   3            &   4            &   1           \\\\\n",
       "\t26 & Fort Wayne     & Indiana        &  12            &  25            &  13           \\\\\n",
       "\t83 & Buffalo        & New York       &  60            &  41            & -19           \\\\\n",
       "\t39 & Oakland        & California     &  80            &  85            &   5           \\\\\n",
       "\t73 & Lincoln        & Nebraska       &   7            &   1            &  -6           \\\\\n",
       "\t1 & Baltimore      & Maryland       & 211            & 344            & 133           \\\\\n",
       "\t76 & Mobile         & Alabama        &  31            &  24            &  -7           \\\\\n",
       "\t30 & Newark         & New Jersey     &  93            & 104            &  11           \\\\\n",
       "\t74 & Miami          & Florida        &  81            &  75            &  -6           \\\\\n",
       "\t18 & Minneapolis    & Minnesota      &  31            &  47            &  16           \\\\\n",
       "\t58 & Chula Vista    & California     &   7            &   6            &  -1           \\\\\n",
       "\t35 & Tampa          & Florida        &  28            &  34            &   6           \\\\\n",
       "\t78 & Austin         & Texas          &  32            &  23            &  -9           \\\\\n",
       "\t4 & Cleveland      & Ohio           &  63            & 120            &  57           \\\\\n",
       "\t54 & Chandler       & Arizona        &   1            &   1            &   0           \\\\\n",
       "\t7 & Philadelphia   & Pennsylvania   & 248            & 280            &  32           \\\\\n",
       "\t53 & Wichita        & Kansas         &  26            &  27            &   1           \\\\\n",
       "\t43 & Greensboro     & North Carolina &  23            &  26            &   3           \\\\\n",
       "\t75 & Santa Ana      & California     &  18            &  12            &  -6           \\\\\n",
       "\t15 & Dallas         & Texas          & 116            & 136            &  20           \\\\\n",
       "\t80 & Corpus Christi & Texas          &  27            &  17            & -10           \\\\\n",
       "\t32 & Portland       & Oregon         &  26            &  34            &   8           \\\\\n",
       "\t45 & Mesa           & Arizona        &  13            &  16            &   3           \\\\\n",
       "\t60 & Riverside      & California     &  12            &  10            &  -2           \\\\\n",
       "\t66 & Arlington      & Texas          &  13            &   8            &  -5           \\\\\n",
       "\t70 & Columbus       & Ohio           &  83            &  77            &  -6           \\\\\n",
       "\t34 & Cincinnati     & Ohio           &  60            &  66            &   6           \\\\\n",
       "\t56 & Stockton       & California     &  49            &  49            &   0           \\\\\n",
       "\t57 & Toledo         & Ohio           &  24            &  24            &   0           \\\\\n",
       "\t71 & Honolulu       & Hawaii         &  21            &  15            &  -6           \\\\\n",
       "\t20 & Sacramento     & California     &  28            &  43            &  15           \\\\\n",
       "\t47 & Virginia Beach & Virginia       &  17            &  19            &   2           \\\\\n",
       "\t63 & Seattle        & Washington     &  26            &  23            &  -3           \\\\\n",
       "\t33 & San Francisco  & California     &  45            &  53            &   8           \\\\\n",
       "\t11 & Oklahoma City  & Oklahoma       &  45            &  73            &  28           \\\\\n",
       "\t31 & Tulsa          & Oklahoma       &  46            &  55            &   9           \\\\\n",
       "\t38 & Las Vegas      & Nevada         & 122            & 127            &   5           \\\\\n",
       "\t25 & Aurora         & Colorado       &  11            &  24            &  13           \\\\\n",
       "\\end{tabular}\n"
      ],
      "text/markdown": [
       "\n",
       "| <!--/--> | city | state | X2014_murders | X2015_murders | change |\n",
       "|---|---|---|---|---|---|\n",
       "| 36 | Bakersfield    | California     |  17            |  22            |   5            |\n",
       "| 16 | New York       | New York       | 333            | 352            |  19            |\n",
       "| 50 | Henderson      | Nevada         |   3            |   4            |   1            |\n",
       "| 26 | Fort Wayne     | Indiana        |  12            |  25            |  13            |\n",
       "| 83 | Buffalo        | New York       |  60            |  41            | -19            |\n",
       "| 39 | Oakland        | California     |  80            |  85            |   5            |\n",
       "| 73 | Lincoln        | Nebraska       |   7            |   1            |  -6            |\n",
       "| 1 | Baltimore      | Maryland       | 211            | 344            | 133            |\n",
       "| 76 | Mobile         | Alabama        |  31            |  24            |  -7            |\n",
       "| 30 | Newark         | New Jersey     |  93            | 104            |  11            |\n",
       "| 74 | Miami          | Florida        |  81            |  75            |  -6            |\n",
       "| 18 | Minneapolis    | Minnesota      |  31            |  47            |  16            |\n",
       "| 58 | Chula Vista    | California     |   7            |   6            |  -1            |\n",
       "| 35 | Tampa          | Florida        |  28            |  34            |   6            |\n",
       "| 78 | Austin         | Texas          |  32            |  23            |  -9            |\n",
       "| 4 | Cleveland      | Ohio           |  63            | 120            |  57            |\n",
       "| 54 | Chandler       | Arizona        |   1            |   1            |   0            |\n",
       "| 7 | Philadelphia   | Pennsylvania   | 248            | 280            |  32            |\n",
       "| 53 | Wichita        | Kansas         |  26            |  27            |   1            |\n",
       "| 43 | Greensboro     | North Carolina |  23            |  26            |   3            |\n",
       "| 75 | Santa Ana      | California     |  18            |  12            |  -6            |\n",
       "| 15 | Dallas         | Texas          | 116            | 136            |  20            |\n",
       "| 80 | Corpus Christi | Texas          |  27            |  17            | -10            |\n",
       "| 32 | Portland       | Oregon         |  26            |  34            |   8            |\n",
       "| 45 | Mesa           | Arizona        |  13            |  16            |   3            |\n",
       "| 60 | Riverside      | California     |  12            |  10            |  -2            |\n",
       "| 66 | Arlington      | Texas          |  13            |   8            |  -5            |\n",
       "| 70 | Columbus       | Ohio           |  83            |  77            |  -6            |\n",
       "| 34 | Cincinnati     | Ohio           |  60            |  66            |   6            |\n",
       "| 56 | Stockton       | California     |  49            |  49            |   0            |\n",
       "| 57 | Toledo         | Ohio           |  24            |  24            |   0            |\n",
       "| 71 | Honolulu       | Hawaii         |  21            |  15            |  -6            |\n",
       "| 20 | Sacramento     | California     |  28            |  43            |  15            |\n",
       "| 47 | Virginia Beach | Virginia       |  17            |  19            |   2            |\n",
       "| 63 | Seattle        | Washington     |  26            |  23            |  -3            |\n",
       "| 33 | San Francisco  | California     |  45            |  53            |   8            |\n",
       "| 11 | Oklahoma City  | Oklahoma       |  45            |  73            |  28            |\n",
       "| 31 | Tulsa          | Oklahoma       |  46            |  55            |   9            |\n",
       "| 38 | Las Vegas      | Nevada         | 122            | 127            |   5            |\n",
       "| 25 | Aurora         | Colorado       |  11            |  24            |  13            |\n",
       "\n"
      ],
      "text/plain": [
       "   city           state          X2014_murders X2015_murders change\n",
       "36 Bakersfield    California      17            22             5   \n",
       "16 New York       New York       333           352            19   \n",
       "50 Henderson      Nevada           3             4             1   \n",
       "26 Fort Wayne     Indiana         12            25            13   \n",
       "83 Buffalo        New York        60            41           -19   \n",
       "39 Oakland        California      80            85             5   \n",
       "73 Lincoln        Nebraska         7             1            -6   \n",
       "1  Baltimore      Maryland       211           344           133   \n",
       "76 Mobile         Alabama         31            24            -7   \n",
       "30 Newark         New Jersey      93           104            11   \n",
       "74 Miami          Florida         81            75            -6   \n",
       "18 Minneapolis    Minnesota       31            47            16   \n",
       "58 Chula Vista    California       7             6            -1   \n",
       "35 Tampa          Florida         28            34             6   \n",
       "78 Austin         Texas           32            23            -9   \n",
       "4  Cleveland      Ohio            63           120            57   \n",
       "54 Chandler       Arizona          1             1             0   \n",
       "7  Philadelphia   Pennsylvania   248           280            32   \n",
       "53 Wichita        Kansas          26            27             1   \n",
       "43 Greensboro     North Carolina  23            26             3   \n",
       "75 Santa Ana      California      18            12            -6   \n",
       "15 Dallas         Texas          116           136            20   \n",
       "80 Corpus Christi Texas           27            17           -10   \n",
       "32 Portland       Oregon          26            34             8   \n",
       "45 Mesa           Arizona         13            16             3   \n",
       "60 Riverside      California      12            10            -2   \n",
       "66 Arlington      Texas           13             8            -5   \n",
       "70 Columbus       Ohio            83            77            -6   \n",
       "34 Cincinnati     Ohio            60            66             6   \n",
       "56 Stockton       California      49            49             0   \n",
       "57 Toledo         Ohio            24            24             0   \n",
       "71 Honolulu       Hawaii          21            15            -6   \n",
       "20 Sacramento     California      28            43            15   \n",
       "47 Virginia Beach Virginia        17            19             2   \n",
       "63 Seattle        Washington      26            23            -3   \n",
       "33 San Francisco  California      45            53             8   \n",
       "11 Oklahoma City  Oklahoma        45            73            28   \n",
       "31 Tulsa          Oklahoma        46            55             9   \n",
       "38 Las Vegas      Nevada         122           127             5   \n",
       "25 Aurora         Colorado        11            24            13   "
      ]
     },
     "metadata": {},
     "output_type": "display_data"
    }
   ],
   "source": [
    "data <- read.csv(file = 'murder_2015_final.csv')\n",
    "\n",
    "randomRows = function(df,n){\n",
    "   return(df[sample(nrow(df),n),])\n",
    "}\n",
    "data_proba <- randomRows(data,40)\n",
    "data_proba"
   ]
  },
  {
   "cell_type": "markdown",
   "metadata": {},
   "source": [
    "# W pierwszym teście sprawdzimy czy liczba morderst zwiększyła się w roku 2015 zrobimy to za pomocą testu sparowanego na próbie 40 miast"
   ]
  },
  {
   "cell_type": "markdown",
   "metadata": {},
   "source": [
    "Szerokości przedziałów zabrałem z wbudowanej funkcji R hist() ponieważ są to zbliżone wartości do ręcznie liczonej liczby przedziałów i długości przedziału."
   ]
  },
  {
   "cell_type": "code",
   "execution_count": 5,
   "metadata": {},
   "outputs": [
    {
     "data": {
      "text/html": [
       "<table>\n",
       "<thead><tr><th scope=col>nr.klasy</th><th scope=col>poczatek.klasy</th><th scope=col>koniec.klasy</th><th scope=col>srodek.klasy</th><th scope=col>liczebnosc.klasy</th></tr></thead>\n",
       "<tbody>\n",
       "\t<tr><td>1  </td><td>-20</td><td>  0</td><td>-10</td><td>16 </td></tr>\n",
       "\t<tr><td>2  </td><td>  0</td><td> 20</td><td> 10</td><td>20 </td></tr>\n",
       "\t<tr><td>3  </td><td> 20</td><td> 40</td><td> 30</td><td> 2 </td></tr>\n",
       "\t<tr><td>4  </td><td> 40</td><td> 60</td><td> 50</td><td> 1 </td></tr>\n",
       "\t<tr><td>5  </td><td> 60</td><td> 80</td><td> 70</td><td> 0 </td></tr>\n",
       "\t<tr><td>6  </td><td> 80</td><td>100</td><td> 90</td><td> 0 </td></tr>\n",
       "\t<tr><td>7  </td><td>100</td><td>120</td><td>110</td><td> 0 </td></tr>\n",
       "\t<tr><td>8  </td><td>120</td><td>140</td><td>130</td><td> 1 </td></tr>\n",
       "</tbody>\n",
       "</table>\n"
      ],
      "text/latex": [
       "\\begin{tabular}{r|lllll}\n",
       " nr.klasy & poczatek.klasy & koniec.klasy & srodek.klasy & liczebnosc.klasy\\\\\n",
       "\\hline\n",
       "\t 1   & -20 &   0 & -10 & 16 \\\\\n",
       "\t 2   &   0 &  20 &  10 & 20 \\\\\n",
       "\t 3   &  20 &  40 &  30 &  2 \\\\\n",
       "\t 4   &  40 &  60 &  50 &  1 \\\\\n",
       "\t 5   &  60 &  80 &  70 &  0 \\\\\n",
       "\t 6   &  80 & 100 &  90 &  0 \\\\\n",
       "\t 7   & 100 & 120 & 110 &  0 \\\\\n",
       "\t 8   & 120 & 140 & 130 &  1 \\\\\n",
       "\\end{tabular}\n"
      ],
      "text/markdown": [
       "\n",
       "| nr.klasy | poczatek.klasy | koniec.klasy | srodek.klasy | liczebnosc.klasy |\n",
       "|---|---|---|---|---|\n",
       "| 1   | -20 |   0 | -10 | 16  |\n",
       "| 2   |   0 |  20 |  10 | 20  |\n",
       "| 3   |  20 |  40 |  30 |  2  |\n",
       "| 4   |  40 |  60 |  50 |  1  |\n",
       "| 5   |  60 |  80 |  70 |  0  |\n",
       "| 6   |  80 | 100 |  90 |  0  |\n",
       "| 7   | 100 | 120 | 110 |  0  |\n",
       "| 8   | 120 | 140 | 130 |  1  |\n",
       "\n"
      ],
      "text/plain": [
       "  nr.klasy poczatek.klasy koniec.klasy srodek.klasy liczebnosc.klasy\n",
       "1 1        -20              0          -10          16              \n",
       "2 2          0             20           10          20              \n",
       "3 3         20             40           30           2              \n",
       "4 4         40             60           50           1              \n",
       "5 5         60             80           70           0              \n",
       "6 6         80            100           90           0              \n",
       "7 7        100            120          110           0              \n",
       "8 8        120            140          130           1              "
      ]
     },
     "metadata": {},
     "output_type": "display_data"
    },
    {
     "data": {
      "image/png": "[encoded data removed]",
      "text/plain": [
       "Plot with title \"Różnica w zgonach między rokiem 2015 i 2014 w USA\""
      ]
     },
     "metadata": {},
     "output_type": "display_data"
    }
   ],
   "source": [
    "histogram1 <- hist(data_proba$change,col=\"blue\",xlab=\"Rożnica mędzy 2014/2015\",xlim=c(-50,150), main=\"Różnica w zgonach między rokiem 2015 i 2014 w USA\") \n",
    "freq.tab <- data.frame(nr.klasy        = seq(1, length(histogram1$counts)),\n",
    "                       poczatek.klasy  = head(histogram1$breaks,-1),\n",
    "                       koniec.klasy    = tail(histogram1$breaks,-1),\n",
    "                       srodek.klasy    = histogram1$mids,\n",
    "                       liczebnosc.klasy= histogram1$counts)\n",
    "freq.tab\n"
   ]
  },
  {
   "cell_type": "markdown",
   "metadata": {},
   "source": [
    "# Podstawowe Statystyki opisowe"
   ]
  },
  {
   "cell_type": "markdown",
   "metadata": {},
   "source": [
    "Dla celów poglądowych zaprezentowałem podstawowe statystyki dla 2014 i 2015 rozłącznie jednak nie są one potrzebne do Testu dla prób zależnych.  W tym przypadku porównujemy wyniki pochodzące z różnicy."
   ]
  },
  {
   "cell_type": "code",
   "execution_count": 6,
   "metadata": {},
   "outputs": [
    {
     "name": "stdout",
     "output_type": "stream",
     "text": [
      "[1] \"Dla 2014 roku\"\n",
      "   Srednia    Mediana  Wariancja Odchylenie \n",
      "   54.7250    28.0000  4724.8712    68.7377 \n",
      "[1] \"Dla 2015 roku\"\n",
      "   Srednia    Mediana  Wariancja Odchylenie \n",
      "  63.05000   30.50000 7000.30513   83.66783 \n",
      "[1] \"Dla różnicy\"\n"
     ]
    },
    {
     "data": {
      "text/plain": [
       "   Min. 1st Qu.  Median    Mean 3rd Qu.    Max. \n",
       "-19.000  -3.000   4.000   9.735  14.000 133.000 "
      ]
     },
     "metadata": {},
     "output_type": "display_data"
    },
    {
     "name": "stdout",
     "output_type": "stream",
     "text": [
      "   Srednia    Mediana  Wariancja Odchylenie \n",
      "   8.32500    3.00000  586.27628   24.21314 \n"
     ]
    }
   ],
   "source": [
    "print(\"Dla 2014 roku\")\n",
    "print(c(Srednia=mean(data_proba$X2014_murders), Mediana=median(data_proba$X2014_murders), Wariancja = var(data_proba$X2014_murders), Odchylenie = sd(data_proba$X2014_murders)))\n",
    "print(\"Dla 2015 roku\")\n",
    "print(c(Srednia=mean(data_proba$X2015_murders), Mediana=median(data_proba$X2015_murders), Wariancja = var(data_proba$X2015_murders), Odchylenie = sd(data_proba$X2015_murders)))\n",
    "print('Dla różnicy')\n",
    "summary(data$change)\n",
    "print(c(Srednia=mean(data_proba$change), Mediana=median(data_proba$change), Wariancja = var(data_proba$change), Odchylenie = sd(data_proba$change)))"
   ]
  },
  {
   "cell_type": "markdown",
   "metadata": {},
   "source": [
    "Dla podstawowych statystyk opisowych różnicy w liczbie morderstw możemy zauważyć, że średnia jest sporo większa od mediany. Przyczyną są wartości skrajne na końcach przedziałów. Potwierdza to odchylenie standardowe, które jest wysokie, a więc wartości są szeroko rozrzucone wokół średniej arytmetycznej. "
   ]
  },
  {
   "cell_type": "markdown",
   "metadata": {},
   "source": [
    "# W pierwszym teście chcemy srpawdzić czy liczba mordestw miastach USA zwiększyła się w 2015 względem roku 2014.\n",
    "Użyjemy tutaj testu dla prób zależnych (sparowanego) jednostornnego.\n",
    "\n",
    "Hipoteza zerowa: H_0 - liczba morderstw nie zwiększyła się w 2015 roku (u2-u1=0)\n",
    "\n",
    "Hipoteza alternatywna: H_1- Liczba morderstw zwiększyła się w 2015 roku (u2-u1>0)\n",
    "\n",
    "Przyjmujemy poziom istotności alfa (prawdopodobieństwo popełnienia błędu I rodzaju): 0,05"
   ]
  },
  {
   "cell_type": "code",
   "execution_count": 7,
   "metadata": {},
   "outputs": [
    {
     "name": "stdout",
     "output_type": "stream",
     "text": [
      "[1] \"Statystyka Testowa\"\n"
     ]
    },
    {
     "data": {
      "text/html": [
       "2.17451834219048"
      ],
      "text/latex": [
       "2.17451834219048"
      ],
      "text/markdown": [
       "2.17451834219048"
      ],
      "text/plain": [
       "[1] 2.174518"
      ]
     },
     "metadata": {},
     "output_type": "display_data"
    },
    {
     "name": "stdout",
     "output_type": "stream",
     "text": [
      "[1] \"Wartość krytyczna\"\n"
     ]
    },
    {
     "data": {
      "text/html": [
       "1.64485362695147"
      ],
      "text/latex": [
       "1.64485362695147"
      ],
      "text/markdown": [
       "1.64485362695147"
      ],
      "text/plain": [
       "[1] 1.644854"
      ]
     },
     "metadata": {},
     "output_type": "display_data"
    },
    {
     "data": {
      "text/html": [
       "1.68487512171122"
      ],
      "text/latex": [
       "1.68487512171122"
      ],
      "text/markdown": [
       "1.68487512171122"
      ],
      "text/plain": [
       "[1] 1.684875"
      ]
     },
     "metadata": {},
     "output_type": "display_data"
    },
    {
     "name": "stdout",
     "output_type": "stream",
     "text": [
      "[1] \"p-wartość\"\n"
     ]
    },
    {
     "data": {
      "text/html": [
       "0.014833114710109"
      ],
      "text/latex": [
       "0.014833114710109"
      ],
      "text/markdown": [
       "0.014833114710109"
      ],
      "text/plain": [
       "[1] 0.01483311"
      ]
     },
     "metadata": {},
     "output_type": "display_data"
    }
   ],
   "source": [
    "alpha <- 0.05\n",
    "n<- nrow(data_proba)\n",
    "print('Statystyka Testowa')\n",
    "Statystyka_T <- (mean(data_proba$change)/sd(data_proba$change))*sqrt(n)\n",
    "Statystyka_T\n",
    "\n",
    "print('Wartość krytyczna')\n",
    "qnorm(1-alpha,0,1)\n",
    "qt(1-alpha,n-1)\n",
    " \n",
    "print('p-wartość') \n",
    "pnorm(-abs(Statystyka_T))\n"
   ]
  },
  {
   "cell_type": "markdown",
   "metadata": {},
   "source": [
    "Próba ma licznośc 40 więc stosujemy test Z\n",
    "\n",
    "Statystyka testowa = 2.17\n",
    "\n",
    "Obszar ktytyczny (1.64; inf)\n",
    "\n",
    "Odrzucamy hipoteze H_0 na rzecz hipotezy H_1\n",
    "\n",
    "p-wartość = 0.0148 < 0.05 a więc p-wartości również potwierdza odrzucenie H_0.\n",
    "\n",
    "Wynik testu pokazał niestety, że liczba morderstw w miastach USA w 2015 jest większa niz w 2014 roku."
   ]
  },
  {
   "cell_type": "markdown",
   "metadata": {},
   "source": [
    "# Analiza regresji liniowej\n",
    "\n",
    "W tym celu stworzyłem nową kolumne Unemployment_Rates która zawiera stopę bezrobocia dla stanu w którym znajduje się dane miasto na rok 2015. "
   ]
  },
  {
   "cell_type": "code",
   "execution_count": 8,
   "metadata": {},
   "outputs": [
    {
     "data": {
      "text/html": [
       "<table>\n",
       "<thead><tr><th scope=col>city</th><th scope=col>state</th><th scope=col>X2014_murders</th><th scope=col>X2015_murders</th><th scope=col>change</th><th scope=col>Unemployment_Rates</th></tr></thead>\n",
       "<tbody>\n",
       "\t<tr><td>Baltimore            </td><td>Maryland             </td><td>211                  </td><td>344                  </td><td>133                  </td><td>5.1                  </td></tr>\n",
       "\t<tr><td>Chicago              </td><td>Illinois             </td><td>411                  </td><td>478                  </td><td> 67                  </td><td>6.0                  </td></tr>\n",
       "\t<tr><td>Houston              </td><td>Texas                </td><td>242                  </td><td>303                  </td><td> 61                  </td><td>4.4                  </td></tr>\n",
       "\t<tr><td>Cleveland            </td><td>Ohio                 </td><td> 63                  </td><td>120                  </td><td> 57                  </td><td>4.9                  </td></tr>\n",
       "\t<tr><td>Washington           </td><td>D.C.                 </td><td>105                  </td><td>162                  </td><td> 57                  </td><td>6.9                  </td></tr>\n",
       "\t<tr><td>Milwaukee            </td><td>Wisconsin            </td><td> 90                  </td><td>145                  </td><td> 55                  </td><td>4.5                  </td></tr>\n",
       "\t<tr><td>Philadelphia         </td><td>Pennsylvania         </td><td>248                  </td><td>280                  </td><td> 32                  </td><td>5.3                  </td></tr>\n",
       "\t<tr><td>Kansas City          </td><td>Missouri             </td><td> 78                  </td><td>109                  </td><td> 31                  </td><td>5.0                  </td></tr>\n",
       "\t<tr><td>Nashville            </td><td>Tennessee            </td><td> 41                  </td><td> 72                  </td><td> 31                  </td><td>5.6                  </td></tr>\n",
       "\t<tr><td>St. Louis            </td><td>Missouri             </td><td>159                  </td><td>188                  </td><td> 29                  </td><td>5.0                  </td></tr>\n",
       "\t<tr><td>Oklahoma City        </td><td>Oklahoma             </td><td> 45                  </td><td> 73                  </td><td> 28                  </td><td>4.4                  </td></tr>\n",
       "\t<tr><td>Louisville           </td><td>Kentucky             </td><td> 56                  </td><td> 81                  </td><td> 25                  </td><td>5.3                  </td></tr>\n",
       "\t<tr><td>Denver               </td><td>Colorado             </td><td> 31                  </td><td> 53                  </td><td> 22                  </td><td>3.9                  </td></tr>\n",
       "\t<tr><td>Los Angeles          </td><td>California           </td><td>260                  </td><td>282                  </td><td> 22                  </td><td>6.2                  </td></tr>\n",
       "\t<tr><td>Dallas               </td><td>Texas                </td><td>116                  </td><td>136                  </td><td> 20                  </td><td>4.4                  </td></tr>\n",
       "\t<tr><td>New York             </td><td>New York             </td><td>333                  </td><td>352                  </td><td> 19                  </td><td>5.3                  </td></tr>\n",
       "\t<tr><td>Orlando              </td><td>Florida              </td><td> 15                  </td><td> 32                  </td><td> 17                  </td><td>5.5                  </td></tr>\n",
       "\t<tr><td>Minneapolis          </td><td>Minnesota            </td><td> 31                  </td><td> 47                  </td><td> 16                  </td><td>3.7                  </td></tr>\n",
       "\t<tr><td>Omaha                </td><td>Nebraska             </td><td> 32                  </td><td> 48                  </td><td> 16                  </td><td>3.0                  </td></tr>\n",
       "\t<tr><td>Sacramento           </td><td>California           </td><td> 28                  </td><td> 43                  </td><td> 15                  </td><td>6.2                  </td></tr>\n",
       "\t<tr><td>Anchorage            </td><td>Alaska               </td><td> 12                  </td><td> 26                  </td><td> 14                  </td><td>6.5                  </td></tr>\n",
       "\t<tr><td>Charlotte-Mecklenburg</td><td>North Carolina       </td><td> 47                  </td><td> 61                  </td><td> 14                  </td><td>5.7                  </td></tr>\n",
       "\t<tr><td>New Orleans          </td><td>Louisiana            </td><td>150                  </td><td>164                  </td><td> 14                  </td><td>6.3                  </td></tr>\n",
       "\t<tr><td>Albuquerque          </td><td>New Mexico           </td><td> 30                  </td><td> 43                  </td><td> 13                  </td><td>6.5                  </td></tr>\n",
       "\t<tr><td>Aurora               </td><td>Colorado             </td><td> 11                  </td><td> 24                  </td><td> 13                  </td><td>3.9                  </td></tr>\n",
       "\t<tr><td>Fort Wayne           </td><td>Indiana              </td><td> 12                  </td><td> 25                  </td><td> 13                  </td><td>4.8                  </td></tr>\n",
       "\t<tr><td>Long Beach           </td><td>California           </td><td> 23                  </td><td> 36                  </td><td> 13                  </td><td>6.2                  </td></tr>\n",
       "\t<tr><td>Durham               </td><td>North Carolina       </td><td> 21                  </td><td> 34                  </td><td> 13                  </td><td>5.7                  </td></tr>\n",
       "\t<tr><td>Indianapolis         </td><td>Indiana              </td><td>136                  </td><td>148                  </td><td> 12                  </td><td>4.8                  </td></tr>\n",
       "\t<tr><td>Newark               </td><td>New Jersey           </td><td> 93                  </td><td>104                  </td><td> 11                  </td><td>5.8                  </td></tr>\n",
       "\t<tr><td>...</td><td>...</td><td>...</td><td>...</td><td>...</td><td>...</td></tr>\n",
       "\t<tr><td>Chandler      </td><td>Arizona       </td><td>  1           </td><td>  1           </td><td>  0           </td><td>6.1           </td></tr>\n",
       "\t<tr><td>Plano         </td><td>Texas         </td><td>  4           </td><td>  4           </td><td>  0           </td><td>4.4           </td></tr>\n",
       "\t<tr><td>Stockton      </td><td>California    </td><td> 49           </td><td> 49           </td><td>  0           </td><td>6.2           </td></tr>\n",
       "\t<tr><td>Toledo        </td><td>Ohio          </td><td> 24           </td><td> 24           </td><td>  0           </td><td>4.9           </td></tr>\n",
       "\t<tr><td>Chula Vista   </td><td>California    </td><td>  7           </td><td>  6           </td><td> -1           </td><td>6.2           </td></tr>\n",
       "\t<tr><td>Phoenix       </td><td>Arizona       </td><td>114           </td><td>112           </td><td> -2           </td><td>6.1           </td></tr>\n",
       "\t<tr><td>Riverside     </td><td>California    </td><td> 12           </td><td> 10           </td><td> -2           </td><td>6.2           </td></tr>\n",
       "\t<tr><td>San Jose      </td><td>California    </td><td> 32           </td><td> 30           </td><td> -2           </td><td>6.2           </td></tr>\n",
       "\t<tr><td>Detroit       </td><td>Michigan      </td><td>298           </td><td>295           </td><td> -3           </td><td>5.4           </td></tr>\n",
       "\t<tr><td>Seattle       </td><td>Washington    </td><td> 26           </td><td> 23           </td><td> -3           </td><td>5.6           </td></tr>\n",
       "\t<tr><td>El Paso       </td><td>Texas         </td><td> 21           </td><td> 17           </td><td> -4           </td><td>4.4           </td></tr>\n",
       "\t<tr><td>Tucson        </td><td>Arizona       </td><td> 35           </td><td> 31           </td><td> -4           </td><td>6.1           </td></tr>\n",
       "\t<tr><td>Arlington     </td><td>Texas         </td><td> 13           </td><td>  8           </td><td> -5           </td><td>4.4           </td></tr>\n",
       "\t<tr><td>Lexington     </td><td>Kentucky      </td><td> 20           </td><td> 15           </td><td> -5           </td><td>5.3           </td></tr>\n",
       "\t<tr><td>Memphis       </td><td>Tennessee     </td><td>140           </td><td>135           </td><td> -5           </td><td>5.6           </td></tr>\n",
       "\t<tr><td>St. Petersburg</td><td>Florida       </td><td> 19           </td><td> 14           </td><td> -5           </td><td>5.5           </td></tr>\n",
       "\t<tr><td>Columbus      </td><td>Ohio          </td><td> 83           </td><td> 77           </td><td> -6           </td><td>4.9           </td></tr>\n",
       "\t<tr><td>Honolulu      </td><td>Hawaii        </td><td> 21           </td><td> 15           </td><td> -6           </td><td>3.6           </td></tr>\n",
       "\t<tr><td>Laredo        </td><td>Texas         </td><td> 14           </td><td>  8           </td><td> -6           </td><td>4.4           </td></tr>\n",
       "\t<tr><td>Lincoln       </td><td>Nebraska      </td><td>  7           </td><td>  1           </td><td> -6           </td><td>3.0           </td></tr>\n",
       "\t<tr><td>Miami         </td><td>Florida       </td><td> 81           </td><td> 75           </td><td> -6           </td><td>5.5           </td></tr>\n",
       "\t<tr><td>Santa Ana     </td><td>California    </td><td> 18           </td><td> 12           </td><td> -6           </td><td>6.2           </td></tr>\n",
       "\t<tr><td>Mobile        </td><td>Alabama       </td><td> 31           </td><td> 24           </td><td> -7           </td><td>6.1           </td></tr>\n",
       "\t<tr><td>Fresno        </td><td>California    </td><td> 47           </td><td> 39           </td><td> -8           </td><td>6.2           </td></tr>\n",
       "\t<tr><td>Austin        </td><td>Texas         </td><td> 32           </td><td> 23           </td><td> -9           </td><td>4.4           </td></tr>\n",
       "\t<tr><td>San Antonio   </td><td>Texas         </td><td>103           </td><td> 94           </td><td> -9           </td><td>4.4           </td></tr>\n",
       "\t<tr><td>Corpus Christi</td><td>Texas         </td><td> 27           </td><td> 17           </td><td>-10           </td><td>4.4           </td></tr>\n",
       "\t<tr><td>Pittsburgh    </td><td>Pennsylvania  </td><td> 69           </td><td> 57           </td><td>-12           </td><td>5.3           </td></tr>\n",
       "\t<tr><td>Boston        </td><td>Massachusetts </td><td> 53           </td><td> 38           </td><td>-15           </td><td>4.8           </td></tr>\n",
       "\t<tr><td>Buffalo       </td><td>New York      </td><td> 60           </td><td> 41           </td><td>-19           </td><td>5.3           </td></tr>\n",
       "</tbody>\n",
       "</table>\n"
      ],
      "text/latex": [
       "\\begin{tabular}{r|llllll}\n",
       " city & state & X2014\\_murders & X2015\\_murders & change & Unemployment\\_Rates\\\\\n",
       "\\hline\n",
       "\t Baltimore             & Maryland              & 211                   & 344                   & 133                   & 5.1                  \\\\\n",
       "\t Chicago               & Illinois              & 411                   & 478                   &  67                   & 6.0                  \\\\\n",
       "\t Houston               & Texas                 & 242                   & 303                   &  61                   & 4.4                  \\\\\n",
       "\t Cleveland             & Ohio                  &  63                   & 120                   &  57                   & 4.9                  \\\\\n",
       "\t Washington            & D.C.                  & 105                   & 162                   &  57                   & 6.9                  \\\\\n",
       "\t Milwaukee             & Wisconsin             &  90                   & 145                   &  55                   & 4.5                  \\\\\n",
       "\t Philadelphia          & Pennsylvania          & 248                   & 280                   &  32                   & 5.3                  \\\\\n",
       "\t Kansas City           & Missouri              &  78                   & 109                   &  31                   & 5.0                  \\\\\n",
       "\t Nashville             & Tennessee             &  41                   &  72                   &  31                   & 5.6                  \\\\\n",
       "\t St. Louis             & Missouri              & 159                   & 188                   &  29                   & 5.0                  \\\\\n",
       "\t Oklahoma City         & Oklahoma              &  45                   &  73                   &  28                   & 4.4                  \\\\\n",
       "\t Louisville            & Kentucky              &  56                   &  81                   &  25                   & 5.3                  \\\\\n",
       "\t Denver                & Colorado              &  31                   &  53                   &  22                   & 3.9                  \\\\\n",
       "\t Los Angeles           & California            & 260                   & 282                   &  22                   & 6.2                  \\\\\n",
       "\t Dallas                & Texas                 & 116                   & 136                   &  20                   & 4.4                  \\\\\n",
       "\t New York              & New York              & 333                   & 352                   &  19                   & 5.3                  \\\\\n",
       "\t Orlando               & Florida               &  15                   &  32                   &  17                   & 5.5                  \\\\\n",
       "\t Minneapolis           & Minnesota             &  31                   &  47                   &  16                   & 3.7                  \\\\\n",
       "\t Omaha                 & Nebraska              &  32                   &  48                   &  16                   & 3.0                  \\\\\n",
       "\t Sacramento            & California            &  28                   &  43                   &  15                   & 6.2                  \\\\\n",
       "\t Anchorage             & Alaska                &  12                   &  26                   &  14                   & 6.5                  \\\\\n",
       "\t Charlotte-Mecklenburg & North Carolina        &  47                   &  61                   &  14                   & 5.7                  \\\\\n",
       "\t New Orleans           & Louisiana             & 150                   & 164                   &  14                   & 6.3                  \\\\\n",
       "\t Albuquerque           & New Mexico            &  30                   &  43                   &  13                   & 6.5                  \\\\\n",
       "\t Aurora                & Colorado              &  11                   &  24                   &  13                   & 3.9                  \\\\\n",
       "\t Fort Wayne            & Indiana               &  12                   &  25                   &  13                   & 4.8                  \\\\\n",
       "\t Long Beach            & California            &  23                   &  36                   &  13                   & 6.2                  \\\\\n",
       "\t Durham                & North Carolina        &  21                   &  34                   &  13                   & 5.7                  \\\\\n",
       "\t Indianapolis          & Indiana               & 136                   & 148                   &  12                   & 4.8                  \\\\\n",
       "\t Newark                & New Jersey            &  93                   & 104                   &  11                   & 5.8                  \\\\\n",
       "\t ... & ... & ... & ... & ... & ...\\\\\n",
       "\t Chandler       & Arizona        &   1            &   1            &   0            & 6.1           \\\\\n",
       "\t Plano          & Texas          &   4            &   4            &   0            & 4.4           \\\\\n",
       "\t Stockton       & California     &  49            &  49            &   0            & 6.2           \\\\\n",
       "\t Toledo         & Ohio           &  24            &  24            &   0            & 4.9           \\\\\n",
       "\t Chula Vista    & California     &   7            &   6            &  -1            & 6.2           \\\\\n",
       "\t Phoenix        & Arizona        & 114            & 112            &  -2            & 6.1           \\\\\n",
       "\t Riverside      & California     &  12            &  10            &  -2            & 6.2           \\\\\n",
       "\t San Jose       & California     &  32            &  30            &  -2            & 6.2           \\\\\n",
       "\t Detroit        & Michigan       & 298            & 295            &  -3            & 5.4           \\\\\n",
       "\t Seattle        & Washington     &  26            &  23            &  -3            & 5.6           \\\\\n",
       "\t El Paso        & Texas          &  21            &  17            &  -4            & 4.4           \\\\\n",
       "\t Tucson         & Arizona        &  35            &  31            &  -4            & 6.1           \\\\\n",
       "\t Arlington      & Texas          &  13            &   8            &  -5            & 4.4           \\\\\n",
       "\t Lexington      & Kentucky       &  20            &  15            &  -5            & 5.3           \\\\\n",
       "\t Memphis        & Tennessee      & 140            & 135            &  -5            & 5.6           \\\\\n",
       "\t St. Petersburg & Florida        &  19            &  14            &  -5            & 5.5           \\\\\n",
       "\t Columbus       & Ohio           &  83            &  77            &  -6            & 4.9           \\\\\n",
       "\t Honolulu       & Hawaii         &  21            &  15            &  -6            & 3.6           \\\\\n",
       "\t Laredo         & Texas          &  14            &   8            &  -6            & 4.4           \\\\\n",
       "\t Lincoln        & Nebraska       &   7            &   1            &  -6            & 3.0           \\\\\n",
       "\t Miami          & Florida        &  81            &  75            &  -6            & 5.5           \\\\\n",
       "\t Santa Ana      & California     &  18            &  12            &  -6            & 6.2           \\\\\n",
       "\t Mobile         & Alabama        &  31            &  24            &  -7            & 6.1           \\\\\n",
       "\t Fresno         & California     &  47            &  39            &  -8            & 6.2           \\\\\n",
       "\t Austin         & Texas          &  32            &  23            &  -9            & 4.4           \\\\\n",
       "\t San Antonio    & Texas          & 103            &  94            &  -9            & 4.4           \\\\\n",
       "\t Corpus Christi & Texas          &  27            &  17            & -10            & 4.4           \\\\\n",
       "\t Pittsburgh     & Pennsylvania   &  69            &  57            & -12            & 5.3           \\\\\n",
       "\t Boston         & Massachusetts  &  53            &  38            & -15            & 4.8           \\\\\n",
       "\t Buffalo        & New York       &  60            &  41            & -19            & 5.3           \\\\\n",
       "\\end{tabular}\n"
      ],
      "text/markdown": [
       "\n",
       "| city | state | X2014_murders | X2015_murders | change | Unemployment_Rates |\n",
       "|---|---|---|---|---|---|\n",
       "| Baltimore             | Maryland              | 211                   | 344                   | 133                   | 5.1                   |\n",
       "| Chicago               | Illinois              | 411                   | 478                   |  67                   | 6.0                   |\n",
       "| Houston               | Texas                 | 242                   | 303                   |  61                   | 4.4                   |\n",
       "| Cleveland             | Ohio                  |  63                   | 120                   |  57                   | 4.9                   |\n",
       "| Washington            | D.C.                  | 105                   | 162                   |  57                   | 6.9                   |\n",
       "| Milwaukee             | Wisconsin             |  90                   | 145                   |  55                   | 4.5                   |\n",
       "| Philadelphia          | Pennsylvania          | 248                   | 280                   |  32                   | 5.3                   |\n",
       "| Kansas City           | Missouri              |  78                   | 109                   |  31                   | 5.0                   |\n",
       "| Nashville             | Tennessee             |  41                   |  72                   |  31                   | 5.6                   |\n",
       "| St. Louis             | Missouri              | 159                   | 188                   |  29                   | 5.0                   |\n",
       "| Oklahoma City         | Oklahoma              |  45                   |  73                   |  28                   | 4.4                   |\n",
       "| Louisville            | Kentucky              |  56                   |  81                   |  25                   | 5.3                   |\n",
       "| Denver                | Colorado              |  31                   |  53                   |  22                   | 3.9                   |\n",
       "| Los Angeles           | California            | 260                   | 282                   |  22                   | 6.2                   |\n",
       "| Dallas                | Texas                 | 116                   | 136                   |  20                   | 4.4                   |\n",
       "| New York              | New York              | 333                   | 352                   |  19                   | 5.3                   |\n",
       "| Orlando               | Florida               |  15                   |  32                   |  17                   | 5.5                   |\n",
       "| Minneapolis           | Minnesota             |  31                   |  47                   |  16                   | 3.7                   |\n",
       "| Omaha                 | Nebraska              |  32                   |  48                   |  16                   | 3.0                   |\n",
       "| Sacramento            | California            |  28                   |  43                   |  15                   | 6.2                   |\n",
       "| Anchorage             | Alaska                |  12                   |  26                   |  14                   | 6.5                   |\n",
       "| Charlotte-Mecklenburg | North Carolina        |  47                   |  61                   |  14                   | 5.7                   |\n",
       "| New Orleans           | Louisiana             | 150                   | 164                   |  14                   | 6.3                   |\n",
       "| Albuquerque           | New Mexico            |  30                   |  43                   |  13                   | 6.5                   |\n",
       "| Aurora                | Colorado              |  11                   |  24                   |  13                   | 3.9                   |\n",
       "| Fort Wayne            | Indiana               |  12                   |  25                   |  13                   | 4.8                   |\n",
       "| Long Beach            | California            |  23                   |  36                   |  13                   | 6.2                   |\n",
       "| Durham                | North Carolina        |  21                   |  34                   |  13                   | 5.7                   |\n",
       "| Indianapolis          | Indiana               | 136                   | 148                   |  12                   | 4.8                   |\n",
       "| Newark                | New Jersey            |  93                   | 104                   |  11                   | 5.8                   |\n",
       "| ... | ... | ... | ... | ... | ... |\n",
       "| Chandler       | Arizona        |   1            |   1            |   0            | 6.1            |\n",
       "| Plano          | Texas          |   4            |   4            |   0            | 4.4            |\n",
       "| Stockton       | California     |  49            |  49            |   0            | 6.2            |\n",
       "| Toledo         | Ohio           |  24            |  24            |   0            | 4.9            |\n",
       "| Chula Vista    | California     |   7            |   6            |  -1            | 6.2            |\n",
       "| Phoenix        | Arizona        | 114            | 112            |  -2            | 6.1            |\n",
       "| Riverside      | California     |  12            |  10            |  -2            | 6.2            |\n",
       "| San Jose       | California     |  32            |  30            |  -2            | 6.2            |\n",
       "| Detroit        | Michigan       | 298            | 295            |  -3            | 5.4            |\n",
       "| Seattle        | Washington     |  26            |  23            |  -3            | 5.6            |\n",
       "| El Paso        | Texas          |  21            |  17            |  -4            | 4.4            |\n",
       "| Tucson         | Arizona        |  35            |  31            |  -4            | 6.1            |\n",
       "| Arlington      | Texas          |  13            |   8            |  -5            | 4.4            |\n",
       "| Lexington      | Kentucky       |  20            |  15            |  -5            | 5.3            |\n",
       "| Memphis        | Tennessee      | 140            | 135            |  -5            | 5.6            |\n",
       "| St. Petersburg | Florida        |  19            |  14            |  -5            | 5.5            |\n",
       "| Columbus       | Ohio           |  83            |  77            |  -6            | 4.9            |\n",
       "| Honolulu       | Hawaii         |  21            |  15            |  -6            | 3.6            |\n",
       "| Laredo         | Texas          |  14            |   8            |  -6            | 4.4            |\n",
       "| Lincoln        | Nebraska       |   7            |   1            |  -6            | 3.0            |\n",
       "| Miami          | Florida        |  81            |  75            |  -6            | 5.5            |\n",
       "| Santa Ana      | California     |  18            |  12            |  -6            | 6.2            |\n",
       "| Mobile         | Alabama        |  31            |  24            |  -7            | 6.1            |\n",
       "| Fresno         | California     |  47            |  39            |  -8            | 6.2            |\n",
       "| Austin         | Texas          |  32            |  23            |  -9            | 4.4            |\n",
       "| San Antonio    | Texas          | 103            |  94            |  -9            | 4.4            |\n",
       "| Corpus Christi | Texas          |  27            |  17            | -10            | 4.4            |\n",
       "| Pittsburgh     | Pennsylvania   |  69            |  57            | -12            | 5.3            |\n",
       "| Boston         | Massachusetts  |  53            |  38            | -15            | 4.8            |\n",
       "| Buffalo        | New York       |  60            |  41            | -19            | 5.3            |\n",
       "\n"
      ],
      "text/plain": [
       "    city                  state          X2014_murders X2015_murders change\n",
       "1   Baltimore             Maryland       211           344           133   \n",
       "2   Chicago               Illinois       411           478            67   \n",
       "3   Houston               Texas          242           303            61   \n",
       "4   Cleveland             Ohio            63           120            57   \n",
       "5   Washington            D.C.           105           162            57   \n",
       "6   Milwaukee             Wisconsin       90           145            55   \n",
       "7   Philadelphia          Pennsylvania   248           280            32   \n",
       "8   Kansas City           Missouri        78           109            31   \n",
       "9   Nashville             Tennessee       41            72            31   \n",
       "10  St. Louis             Missouri       159           188            29   \n",
       "11  Oklahoma City         Oklahoma        45            73            28   \n",
       "12  Louisville            Kentucky        56            81            25   \n",
       "13  Denver                Colorado        31            53            22   \n",
       "14  Los Angeles           California     260           282            22   \n",
       "15  Dallas                Texas          116           136            20   \n",
       "16  New York              New York       333           352            19   \n",
       "17  Orlando               Florida         15            32            17   \n",
       "18  Minneapolis           Minnesota       31            47            16   \n",
       "19  Omaha                 Nebraska        32            48            16   \n",
       "20  Sacramento            California      28            43            15   \n",
       "21  Anchorage             Alaska          12            26            14   \n",
       "22  Charlotte-Mecklenburg North Carolina  47            61            14   \n",
       "23  New Orleans           Louisiana      150           164            14   \n",
       "24  Albuquerque           New Mexico      30            43            13   \n",
       "25  Aurora                Colorado        11            24            13   \n",
       "26  Fort Wayne            Indiana         12            25            13   \n",
       "27  Long Beach            California      23            36            13   \n",
       "28  Durham                North Carolina  21            34            13   \n",
       "29  Indianapolis          Indiana        136           148            12   \n",
       "30  Newark                New Jersey      93           104            11   \n",
       "... ...                   ...            ...           ...           ...   \n",
       "54  Chandler              Arizona          1             1             0   \n",
       "55  Plano                 Texas            4             4             0   \n",
       "56  Stockton              California      49            49             0   \n",
       "57  Toledo                Ohio            24            24             0   \n",
       "58  Chula Vista           California       7             6            -1   \n",
       "59  Phoenix               Arizona        114           112            -2   \n",
       "60  Riverside             California      12            10            -2   \n",
       "61  San Jose              California      32            30            -2   \n",
       "62  Detroit               Michigan       298           295            -3   \n",
       "63  Seattle               Washington      26            23            -3   \n",
       "64  El Paso               Texas           21            17            -4   \n",
       "65  Tucson                Arizona         35            31            -4   \n",
       "66  Arlington             Texas           13             8            -5   \n",
       "67  Lexington             Kentucky        20            15            -5   \n",
       "68  Memphis               Tennessee      140           135            -5   \n",
       "69  St. Petersburg        Florida         19            14            -5   \n",
       "70  Columbus              Ohio            83            77            -6   \n",
       "71  Honolulu              Hawaii          21            15            -6   \n",
       "72  Laredo                Texas           14             8            -6   \n",
       "73  Lincoln               Nebraska         7             1            -6   \n",
       "74  Miami                 Florida         81            75            -6   \n",
       "75  Santa Ana             California      18            12            -6   \n",
       "76  Mobile                Alabama         31            24            -7   \n",
       "77  Fresno                California      47            39            -8   \n",
       "78  Austin                Texas           32            23            -9   \n",
       "79  San Antonio           Texas          103            94            -9   \n",
       "80  Corpus Christi        Texas           27            17           -10   \n",
       "81  Pittsburgh            Pennsylvania    69            57           -12   \n",
       "82  Boston                Massachusetts   53            38           -15   \n",
       "83  Buffalo               New York        60            41           -19   \n",
       "    Unemployment_Rates\n",
       "1   5.1               \n",
       "2   6.0               \n",
       "3   4.4               \n",
       "4   4.9               \n",
       "5   6.9               \n",
       "6   4.5               \n",
       "7   5.3               \n",
       "8   5.0               \n",
       "9   5.6               \n",
       "10  5.0               \n",
       "11  4.4               \n",
       "12  5.3               \n",
       "13  3.9               \n",
       "14  6.2               \n",
       "15  4.4               \n",
       "16  5.3               \n",
       "17  5.5               \n",
       "18  3.7               \n",
       "19  3.0               \n",
       "20  6.2               \n",
       "21  6.5               \n",
       "22  5.7               \n",
       "23  6.3               \n",
       "24  6.5               \n",
       "25  3.9               \n",
       "26  4.8               \n",
       "27  6.2               \n",
       "28  5.7               \n",
       "29  4.8               \n",
       "30  5.8               \n",
       "... ...               \n",
       "54  6.1               \n",
       "55  4.4               \n",
       "56  6.2               \n",
       "57  4.9               \n",
       "58  6.2               \n",
       "59  6.1               \n",
       "60  6.2               \n",
       "61  6.2               \n",
       "62  5.4               \n",
       "63  5.6               \n",
       "64  4.4               \n",
       "65  6.1               \n",
       "66  4.4               \n",
       "67  5.3               \n",
       "68  5.6               \n",
       "69  5.5               \n",
       "70  4.9               \n",
       "71  3.6               \n",
       "72  4.4               \n",
       "73  3.0               \n",
       "74  5.5               \n",
       "75  6.2               \n",
       "76  6.1               \n",
       "77  6.2               \n",
       "78  4.4               \n",
       "79  4.4               \n",
       "80  4.4               \n",
       "81  5.3               \n",
       "82  4.8               \n",
       "83  5.3               "
      ]
     },
     "metadata": {},
     "output_type": "display_data"
    }
   ],
   "source": [
    "#stany<- table(data$state)\n",
    "#stany\n",
    "data$Unemployment_Rates <- 0\n",
    "data$Unemployment_Rates[data$state == 'Alabama'] <- 6.1\n",
    "data$Unemployment_Rates[data$state == 'Alaska'] <- 6.5\n",
    "data$Unemployment_Rates[data$state == 'Arizona'] <- 6.1\n",
    "data$Unemployment_Rates[data$state == 'California'] <- 6.2\n",
    "data$Unemployment_Rates[data$state == 'Colorado'] <- 3.9\n",
    "data$Unemployment_Rates[data$state == 'D.C.'] <- 6.9\n",
    "data$Unemployment_Rates[data$state == 'Florida'] <- 5.5\n",
    "data$Unemployment_Rates[data$state == 'Georgia'] <- 6.0\n",
    "data$Unemployment_Rates[data$state == 'Hawaii'] <- 3.6\n",
    "data$Unemployment_Rates[data$state == 'Illinois'] <- 6.0\n",
    "data$Unemployment_Rates[data$state == 'Indiana'] <- 4.8\n",
    "data$Unemployment_Rates[data$state == 'Kansas'] <- 4.2\n",
    "data$Unemployment_Rates[data$state == 'Kentucky'] <- 5.3\n",
    "data$Unemployment_Rates[data$state == 'Louisiana'] <- 6.3\n",
    "data$Unemployment_Rates[data$state == 'Maryland'] <- 5.1\n",
    "data$Unemployment_Rates[data$state == 'Massachusetts'] <- 4.8\n",
    "data$Unemployment_Rates[data$state == 'Michigan'] <- 5.4\n",
    "data$Unemployment_Rates[data$state == 'Minnesota'] <- 3.7\n",
    "data$Unemployment_Rates[data$state == 'Missouri'] <- 5.0\n",
    "data$Unemployment_Rates[data$state == 'Nebraska'] <- 3.0\n",
    "data$Unemployment_Rates[data$state == 'Nevada'] <- 6.7\n",
    "data$Unemployment_Rates[data$state == 'New Jersey'] <- 5.8\n",
    "data$Unemployment_Rates[data$state == 'New Mexico'] <- 6.5\n",
    "data$Unemployment_Rates[data$state == 'New York'] <- 5.3\n",
    "data$Unemployment_Rates[data$state == 'North Carolina'] <- 5.7\n",
    "data$Unemployment_Rates[data$state == 'Ohio'] <- 4.9\n",
    "data$Unemployment_Rates[data$state == 'Oklahoma'] <- 4.4\n",
    "data$Unemployment_Rates[data$state == 'Oregon'] <- 5.6\n",
    "data$Unemployment_Rates[data$state == 'Pennsylvania'] <- 5.3\n",
    "data$Unemployment_Rates[data$state == 'Tennessee'] <- 5.6\n",
    "data$Unemployment_Rates[data$state == 'Texas'] <- 4.4\n",
    "data$Unemployment_Rates[data$state == 'Virginia'] <- 4.5\n",
    "data$Unemployment_Rates[data$state == 'Washington'] <- 5.6\n",
    "data$Unemployment_Rates[data$state == 'Wisconsin'] <- 4.5\n",
    "\n",
    "data\n",
    "\n",
    "\n",
    "\n"
   ]
  },
  {
   "cell_type": "markdown",
   "metadata": {},
   "source": [
    "Sprawdzimy czy istnieje zależność między ilością zabójstw a stopą bezrobocia. Sprawdzimy, czy te dwie zmienne są zależne i przeprowadzimy analizę regresji."
   ]
  },
  {
   "cell_type": "markdown",
   "metadata": {},
   "source": [
    "Wyznaczamy współczynnik korelacji Pearsona"
   ]
  },
  {
   "cell_type": "code",
   "execution_count": 9,
   "metadata": {},
   "outputs": [
    {
     "data": {
      "text/html": [
       "0.0730335331539473"
      ],
      "text/latex": [
       "0.0730335331539473"
      ],
      "text/markdown": [
       "0.0730335331539473"
      ],
      "text/plain": [
       "[1] 0.07303353"
      ]
     },
     "metadata": {},
     "output_type": "display_data"
    }
   ],
   "source": [
    "wspKor <- cor(data$X2015_murders, data$Unemployment_Rates)\n",
    "wspKor"
   ]
  },
  {
   "cell_type": "markdown",
   "metadata": {},
   "source": [
    "Współczynnik korelacji Pearsona wyszedł bardzo niski więc zależność liniowa między zmiennymi jest bardzo niska."
   ]
  },
  {
   "cell_type": "markdown",
   "metadata": {},
   "source": [
    "Wykres rozrzutu dla danych."
   ]
  },
  {
   "cell_type": "code",
   "execution_count": 10,
   "metadata": {},
   "outputs": [
    {
     "data": {
      "image/png": "[encoded data removed]",
      "text/plain": [
       "Plot with title \"Dane zabojstw\""
      ]
     },
     "metadata": {},
     "output_type": "display_data"
    }
   ],
   "source": [
    "plot(data$Unemployment_Rates ~ data$X2015_murders, main = \"Dane zabojstw\", xlab = \"x (liczba morderstw)\", ylab = \"y (stopa bezrobocia w stanie)\")\n",
    "model <- lm(Unemployment_Rates~X2015_murders, data)\n",
    "abline(model)"
   ]
  },
  {
   "cell_type": "markdown",
   "metadata": {},
   "source": [
    "Sprawdzamy czy wynik jest istotny na na poziomie istotności alfa=0.05\n"
   ]
  },
  {
   "cell_type": "code",
   "execution_count": 11,
   "metadata": {},
   "outputs": [
    {
     "data": {
      "text/plain": [
       "\n",
       "Call:\n",
       "lm(formula = Unemployment_Rates ~ X2015_murders, data = data)\n",
       "\n",
       "Residuals:\n",
       "    Min      1Q  Median      3Q     Max \n",
       "-2.2863 -0.8553  0.1943  0.8421  1.5318 \n",
       "\n",
       "Coefficients:\n",
       "               Estimate Std. Error t value Pr(>|t|)    \n",
       "(Intercept)   5.2518010  0.1289775  40.719   <2e-16 ***\n",
       "X2015_murders 0.0007184  0.0010900   0.659    0.512    \n",
       "---\n",
       "Signif. codes:  0 '***' 0.001 '**' 0.01 '*' 0.05 '.' 0.1 ' ' 1\n",
       "\n",
       "Residual standard error: 0.9049 on 81 degrees of freedom\n",
       "Multiple R-squared:  0.005334,\tAdjusted R-squared:  -0.006946 \n",
       "F-statistic: 0.4344 on 1 and 81 DF,  p-value: 0.5117\n"
      ]
     },
     "metadata": {},
     "output_type": "display_data"
    },
    {
     "data": {
      "text/html": [
       "<strong>value:</strong> 0.511725361960949"
      ],
      "text/latex": [
       "\\textbf{value:} 0.511725361960949"
      ],
      "text/markdown": [
       "**value:** 0.511725361960949"
      ],
      "text/plain": [
       "    value \n",
       "0.5117254 "
      ]
     },
     "metadata": {},
     "output_type": "display_data"
    }
   ],
   "source": [
    "model.summary = summary(model)\n",
    "F<- model.summary$fstatistic\n",
    "pValue<- 1- pf(F[1],F[2],F[3])\n",
    "model.summary\n",
    "pValue\n",
    "\n",
    "# Nie jest istotny ponieważ p-wartość= 0.512 (0.512>0.05)\n"
   ]
  },
  {
   "cell_type": "markdown",
   "metadata": {},
   "source": [
    "Nie ma zależności liniowej między morderstwami a stopą bezrobocia w dużych miastach USA w 2015 roku."
   ]
  },
  {
   "cell_type": "markdown",
   "metadata": {},
   "source": [
    "# Sprawdźmy liniową zależność między liczbą morderstw w USA na przestrzeni dwóch lat"
   ]
  },
  {
   "cell_type": "markdown",
   "metadata": {},
   "source": [
    "Wyznaczamy współczynnik korelacji Pearsona"
   ]
  },
  {
   "cell_type": "code",
   "execution_count": 12,
   "metadata": {},
   "outputs": [
    {
     "data": {
      "text/html": [
       "0.978106229962523"
      ],
      "text/latex": [
       "0.978106229962523"
      ],
      "text/markdown": [
       "0.978106229962523"
      ],
      "text/plain": [
       "[1] 0.9781062"
      ]
     },
     "metadata": {},
     "output_type": "display_data"
    }
   ],
   "source": [
    "wspKor1 <- cor(data$X2015_murders, data$X2014_murders)\n",
    "wspKor1"
   ]
  },
  {
   "cell_type": "markdown",
   "metadata": {},
   "source": [
    "Jak widać współczynnik korelacji Pearsona jest obiecujący (zależność liniowa między zmiennymi jest bardzo wysoka)."
   ]
  },
  {
   "cell_type": "markdown",
   "metadata": {},
   "source": [
    "Wykres rozrzutu danych."
   ]
  },
  {
   "cell_type": "code",
   "execution_count": 13,
   "metadata": {},
   "outputs": [
    {
     "data": {
      "image/png": "[encoded data removed]",
      "text/plain": [
       "Plot with title \"Dane zabojstw\""
      ]
     },
     "metadata": {},
     "output_type": "display_data"
    }
   ],
   "source": [
    "plot(data$X2014_murders ~ data$X2015_murders, main = \"Dane zabojstw\", xlab = \"x (liczba morderstw w 2015)\", ylab = \"y (liczba morderstw w 2014)\")\n",
    "model1 <- lm(X2014_murders~X2015_murders, data)\n",
    "abline(model1)"
   ]
  },
  {
   "cell_type": "markdown",
   "metadata": {},
   "source": [
    "Sprawdzamy czy wynik jest istotny na na poziomie istotności alfa=0.05\n"
   ]
  },
  {
   "cell_type": "code",
   "execution_count": 14,
   "metadata": {},
   "outputs": [
    {
     "data": {
      "text/plain": [
       "\n",
       "Call:\n",
       "lm(formula = X2014_murders ~ X2015_murders, data = data)\n",
       "\n",
       "Residuals:\n",
       "    Min      1Q  Median      3Q     Max \n",
       "-81.083  -5.661  -0.180   7.697  47.220 \n",
       "\n",
       "Coefficients:\n",
       "              Estimate Std. Error t value Pr(>|t|)    \n",
       "(Intercept)    2.12269    2.35795     0.9    0.371    \n",
       "X2015_murders  0.84291    0.01993    42.3   <2e-16 ***\n",
       "---\n",
       "Signif. codes:  0 '***' 0.001 '**' 0.01 '*' 0.05 '.' 0.1 ' ' 1\n",
       "\n",
       "Residual standard error: 16.54 on 81 degrees of freedom\n",
       "Multiple R-squared:  0.9567,\tAdjusted R-squared:  0.9562 \n",
       "F-statistic:  1789 on 1 and 81 DF,  p-value: < 2.2e-16\n"
      ]
     },
     "metadata": {},
     "output_type": "display_data"
    },
    {
     "data": {
      "text/html": [
       "<strong>value:</strong> 0"
      ],
      "text/latex": [
       "\\textbf{value:} 0"
      ],
      "text/markdown": [
       "**value:** 0"
      ],
      "text/plain": [
       "value \n",
       "    0 "
      ]
     },
     "metadata": {},
     "output_type": "display_data"
    }
   ],
   "source": [
    "model1.summary = summary(model1)\n",
    "F<- model1.summary$fstatistic\n",
    "pValue1<- 1- pf(F[1],F[2],F[3])\n",
    "model1.summary\n",
    "pValue1\n",
    "\n"
   ]
  },
  {
   "cell_type": "markdown",
   "metadata": {},
   "source": [
    "Model jest istotny statystycznie na poziomie alfa=0.05 (p-wartość statystyki F < 2.2e-16)"
   ]
  },
  {
   "cell_type": "markdown",
   "metadata": {},
   "source": [
    " # Wykres rozrzutu danych prowadzi mnie do wniosku, że występuje tu heteroskedastyczny szum. "
   ]
  },
  {
   "cell_type": "markdown",
   "metadata": {},
   "source": [
    "Spróbuję teraz wykonać test Breusch'a–Pagan'a służący do testowania heteroskedastyczności w modelu regresji liniowej. Na poziomie istotności 0,05.\n",
    "\n",
    "H_0 - homoskedastyczność\n",
    "\n",
    "H_1 - heteroskedastyczność"
   ]
  },
  {
   "cell_type": "code",
   "execution_count": 15,
   "metadata": {},
   "outputs": [
    {
     "data": {
      "text/plain": [
       "\n",
       "Call:\n",
       "lm(formula = score.resid ~ murder + murder2)\n",
       "\n",
       "Residuals:\n",
       "    Min      1Q  Median      3Q     Max \n",
       "-1640.4  -155.7     0.2    87.7  5194.9 \n",
       "\n",
       "Coefficients:\n",
       "              Estimate Std. Error t value Pr(>|t|)  \n",
       "(Intercept) -1.139e+02  1.285e+02  -0.886   0.3782  \n",
       "murder       5.873e+00  2.418e+00   2.429   0.0174 *\n",
       "murder2     -4.454e-03  6.364e-03  -0.700   0.4861  \n",
       "---\n",
       "Signif. codes:  0 '***' 0.001 '**' 0.01 '*' 0.05 '.' 0.1 ' ' 1\n",
       "\n",
       "Residual standard error: 693.1 on 80 degrees of freedom\n",
       "Multiple R-squared:  0.2512,\tAdjusted R-squared:  0.2325 \n",
       "F-statistic: 13.42 on 2 and 80 DF,  p-value: 9.416e-06\n"
      ]
     },
     "metadata": {},
     "output_type": "display_data"
    }
   ],
   "source": [
    "score.resid <- model1$residuals^2\n",
    "murder2 <- data$X2015_murders^2\n",
    "murder <- data$X2015_murders\n",
    "\n",
    "Test_BP <- lm(score.resid ~ murder+murder2)\n",
    "summary(Test_BP)"
   ]
  },
  {
   "cell_type": "markdown",
   "metadata": {},
   "source": [
    "p-wartość: 9.416e-06 < 0.05 a więc odrzucamy H_0 na rzecz H_1."
   ]
  },
  {
   "cell_type": "markdown",
   "metadata": {},
   "source": [
    "A więc nasz ciąg danych posiada własność heteroskedastycznośći (tzn. przynajmniej jedna zmienna losowa z ciągu różni się od innych wariancją lub jej wariancja jest nieskończona)."
   ]
  }
 ],
 "metadata": {
  "kernelspec": {
   "display_name": "R",
   "language": "R",
   "name": "ir"
  },
  "language_info": {
   "codemirror_mode": "r",
   "file_extension": ".r",
   "mimetype": "text/x-r-source",
   "name": "R",
   "pygments_lexer": "r",
   "version": "3.6.1"
  }
 },
 "nbformat": 4,
 "nbformat_minor": 4
}
